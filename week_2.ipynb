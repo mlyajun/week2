{
 "cells": [
  {
   "cell_type": "code",
   "execution_count": 1,
   "metadata": {},
   "outputs": [],
   "source": [
    "import numpy as np\n",
    "import pandas as pd\n",
    "import scipy as sp"
   ]
  },
  {
   "cell_type": "code",
   "execution_count": 2,
   "metadata": {},
   "outputs": [],
   "source": [
    "%matplotlib inline\n",
    "import matplotlib.pyplot as plt\n",
    "plt.style.use('ggplot')"
   ]
  },
  {
   "cell_type": "code",
   "execution_count": 3,
   "metadata": {},
   "outputs": [
    {
     "name": "stdout",
     "output_type": "stream",
     "text": [
      "Writing hw_data.csv\n"
     ]
    }
   ],
   "source": [
    "%%file hw_data.csv\n",
    "id,sex,weight,height\n",
    "1,M,190,77\n",
    "2,F,120,70\n",
    "3,F,110,68\n",
    "4,M,150,72\n",
    "5,O,120,66\n",
    "6,M,120,60\n",
    "7,F,140,70"
   ]
  },
  {
   "cell_type": "markdown",
   "metadata": {},
   "source": [
    "# Python"
   ]
  },
  {
   "cell_type": "markdown",
   "metadata": {},
   "source": [
    "## 1. Finish creating the following function that takes a list and returns the average value."
   ]
  },
  {
   "cell_type": "code",
   "execution_count": 14,
   "metadata": {},
   "outputs": [
    {
     "data": {
      "text/plain": [
       "3.375"
      ]
     },
     "execution_count": 14,
     "metadata": {},
     "output_type": "execute_result"
    }
   ],
   "source": [
    "def average(my_list):\n",
    "    total = 0\n",
    "    for item in my_list:\n",
    "        total=total+item\n",
    "    \n",
    "    return total/len(my_list)\n",
    "\n",
    "average([1,2,1,4,3,2,5,9])"
   ]
  },
  {
   "cell_type": "markdown",
   "metadata": {},
   "source": [
    "## 2. Using a Dictionary keep track of the count of numbers (or items) from a list"
   ]
  },
  {
   "cell_type": "code",
   "execution_count": 15,
   "metadata": {},
   "outputs": [
    {
     "data": {
      "text/plain": [
       "{1: 2, 2: 2, 4: 1, 3: 1, 5: 1, 9: 1}"
      ]
     },
     "execution_count": 15,
     "metadata": {},
     "output_type": "execute_result"
    }
   ],
   "source": [
    "def counts(my_list):\n",
    "    counts = dict()\n",
    "    for item in my_list:\n",
    "        counts[item]=counts.get(item,0)+1\n",
    "    \n",
    "    return counts\n",
    "\n",
    "counts([1,2,1,4,3,2,5,9])    "
   ]
  },
  {
   "cell_type": "markdown",
   "metadata": {},
   "source": [
    "## 3.  Using the `counts()` function and the `.split()` function, return a dictionary of most occuring words from the following paragraph. Bonus, remove punctuation from words."
   ]
  },
  {
   "cell_type": "code",
   "execution_count": 29,
   "metadata": {},
   "outputs": [
    {
     "name": "stdout",
     "output_type": "stream",
     "text": [
      "{'For': 2, 'a': 15, 'minute': 1, 'or': 2, 'two': 2, 'she': 6, 'stood': 1, 'looking': 2, 'at': 6, 'the': 32, 'house': 2, 'and': 16, 'wondering': 1, 'what': 2, 'to': 15, 'do': 1, 'next': 2, 'when': 2, 'suddenly': 1, 'footman': 3, 'in': 7, 'livery': 3, 'came': 2, 'running': 1, 'out': 5, 'of': 9, 'wood—she': 1, 'considered': 1, 'him': 3, 'be': 2, 'because': 3, 'he': 5, 'was': 8, 'otherwise': 1, 'judging': 1, 'by': 3, 'his': 5, 'face': 2, 'only': 2, 'would': 1, 'have': 1, 'called': 1, 'fish—and': 1, 'rapped': 1, 'loudly': 1, 'door': 6, 'with': 2, 'knuckles': 1, 'It': 1, 'opened': 2, 'another': 1, 'round': 1, 'large': 3, 'eyes': 2, 'like': 1, 'frog': 1, 'both': 2, 'footmen': 1, 'Alice': 5, 'noticed': 1, 'had': 4, 'powdered': 1, 'hair': 1, 'that': 3, 'curled': 1, 'all': 3, 'over': 2, 'their': 3, 'heads': 1, 'She': 1, 'felt': 1, 'very': 2, 'curious': 1, 'know': 1, 'it': 2, 'about': 1, 'crept': 1, 'little': 2, 'way': 1, 'wood': 2, 'listen': 1, 'The': 2, 'FishFootman': 2, 'began': 1, 'producing': 1, 'from': 2, 'under': 1, 'arm': 1, 'great': 2, 'letter': 1, 'nearly': 2, 'as': 4, 'himself': 1, 'this': 4, 'handed': 1, 'other': 2, 'saying': 1, 'solemn': 2, 'tone': 2, '‘For': 1, 'Duchess': 2, 'An': 2, 'invitation': 2, 'Queen': 2, 'play': 2, 'croquet’': 2, 'FrogFootman': 1, 'repeated': 2, 'same': 2, 'changing': 1, 'order': 1, 'words': 1, '‘From': 1, 'for': 3, 'Then': 1, 'they': 1, 'bowed': 1, 'low': 1, 'curls': 1, 'got': 1, 'entangled': 1, 'together': 1, 'laughed': 1, 'so': 2, 'much': 1, 'run': 1, 'back': 1, 'into': 3, 'fear': 1, 'hearing': 1, 'her': 2, 'peeped': 1, 'gone': 1, 'sitting': 1, 'on': 4, 'ground': 1, 'near': 1, 'staring': 1, 'stupidly': 1, 'up': 3, 'sky': 2, 'went': 2, 'timidly': 1, 'knocked': 1, '‘There’s': 1, 'no': 2, 'sort': 1, 'use': 1, 'knocking’': 2, 'said': 3, 'Footman': 3, '‘and': 1, 'reasons': 1, 'First': 1, 'I’m': 1, 'side': 1, 'you': 5, 'are': 2, 'secondly': 1, 'they’re': 1, 'making': 1, 'such': 1, 'noise': 2, 'inside': 2, 'one': 2, 'could': 2, 'possibly': 1, 'hear': 1, 'you’': 1, 'And': 1, 'certainly': 1, 'there': 1, 'most': 1, 'extraordinary': 1, 'going': 1, 'within—a': 1, 'constant': 1, 'howling': 1, 'sneezing': 1, 'every': 1, 'now': 1, 'then': 1, 'crash': 1, 'if': 2, 'dish': 1, 'kettle': 1, 'been': 1, 'broken': 1, 'pieces': 2, '‘Please': 1, 'then’': 1, '‘how': 1, 'am': 2, 'I': 3, 'get': 2, 'in’': 2, '‘There': 1, 'might': 3, 'some': 1, 'sense': 1, 'your': 1, 'without': 1, 'attending': 1, '‘if': 1, 'we': 1, 'between': 1, 'us': 1, 'instance': 1, 'were': 1, 'knock': 1, 'let': 1, 'know’': 1, 'He': 1, 'time': 1, 'speaking': 1, 'thought': 1, 'decidedly': 1, 'uncivil': 1, '‘But': 1, 'perhaps': 1, 'can’t': 1, 'help': 1, 'it’': 1, 'herself': 1, '‘his': 1, 'top': 1, 'head': 2, 'But': 1, 'any': 1, 'rate': 1, 'answer': 1, 'questions—How': 1, 'aloud': 1, '‘I': 1, 'shall': 1, 'sit': 1, 'here’': 1, 'remarked': 1, '‘till': 1, 'tomorrow—’': 1, 'At': 1, 'moment': 1, 'plate': 1, 'skimming': 1, 'straight': 1, 'Footman’s': 1, 'just': 1, 'grazed': 1, 'nose': 1, 'broke': 1, 'against': 1, 'trees': 1, 'behind': 1}\n"
     ]
    }
   ],
   "source": [
    "paragraph_text = '''\n",
    "For a minute or two she stood looking at the house, and wondering what to do next, when suddenly a footman in livery came running out of the wood—(she considered him to be a footman because he was in livery: otherwise, judging by his face only, she would have called him a fish)—and rapped loudly at the door with his knuckles. It was opened by another footman in livery, with a round face, and large eyes like a frog; and both footmen, Alice noticed, had powdered hair that curled all over their heads. She felt very curious to know what it was all about, and crept a little way out of the wood to listen.\n",
    "The Fish-Footman began by producing from under his arm a great letter, nearly as large as himself, and this he handed over to the other, saying, in a solemn tone, ‘For the Duchess. An invitation from the Queen to play croquet.’ The Frog-Footman repeated, in the same solemn tone, only changing the order of the words a little, ‘From the Queen. An invitation for the Duchess to play croquet.’\n",
    "Then they both bowed low, and their curls got entangled together.\n",
    "Alice laughed so much at this, that she had to run back into the wood for fear of their hearing her; and when she next peeped out the Fish-Footman was gone, and the other was sitting on the ground near the door, staring stupidly up into the sky.\n",
    "Alice went timidly up to the door, and knocked.\n",
    "‘There’s no sort of use in knocking,’ said the Footman, ‘and that for two reasons. First, because I’m on the same side of the door as you are; secondly, because they’re making such a noise inside, no one could possibly hear you.’ And certainly there was a most extraordinary noise going on within—a constant howling and sneezing, and every now and then a great crash, as if a dish or kettle had been broken to pieces.\n",
    "‘Please, then,’ said Alice, ‘how am I to get in?’\n",
    "‘There might be some sense in your knocking,’ the Footman went on without attending to her, ‘if we had the door between us. For instance, if you were inside, you might knock, and I could let you out, you know.’ He was looking up into the sky all the time he was speaking, and this Alice thought decidedly uncivil. ‘But perhaps he can’t help it,’ she said to herself; ‘his eyes are so very nearly at the top of his head. But at any rate he might answer questions.—How am I to get in?’ she repeated, aloud.\n",
    "‘I shall sit here,’ the Footman remarked, ‘till tomorrow—’\n",
    "At this moment the door of the house opened, and a large plate came skimming out, straight at the Footman’s head: it just grazed his nose, and broke to pieces against one of the trees behind him.'''\n",
    "\n",
    "import string\n",
    "table = str.maketrans(dict.fromkeys(string.punctuation))\n",
    "s= paragraph_text.translate(table).split()\n",
    "\n",
    "ls=[]\n",
    "for i in s:\n",
    "    word_count =s.count(i)\n",
    "    ls.append((i,word_count))       \n",
    "print(dict(ls))\n"
   ]
  },
  {
   "cell_type": "markdown",
   "metadata": {},
   "source": [
    "## 4. Read in a file and write each line from the file to a new file Title-ized\n",
    "\n",
    "`This is the first line` ->  `This Is The First Line`\n",
    "\n",
    "Hint: There's a function to do this"
   ]
  },
  {
   "cell_type": "code",
   "execution_count": 13,
   "metadata": {},
   "outputs": [],
   "source": [
    "with open(\"text_sample.txt\", \"r\") as input:\n",
    "      \n",
    "    with open(\"text_sample_new.txt\", \"w\") as output:\n",
    "          \n",
    "        for line in input:\n",
    "            output.write(line.title())"
   ]
  },
  {
   "cell_type": "markdown",
   "metadata": {},
   "source": [
    "# Numpy"
   ]
  },
  {
   "cell_type": "markdown",
   "metadata": {},
   "source": [
    "## 1. Given a list, find the average using a numpy function. "
   ]
  },
  {
   "cell_type": "code",
   "execution_count": 16,
   "metadata": {},
   "outputs": [
    {
     "data": {
      "text/plain": [
       "3.375"
      ]
     },
     "execution_count": 16,
     "metadata": {},
     "output_type": "execute_result"
    }
   ],
   "source": [
    "simple_list = [1,2,1,4,3,2,5,9]\n",
    "\n",
    "np.average(simple_list)"
   ]
  },
  {
   "cell_type": "markdown",
   "metadata": {},
   "source": [
    "## 2. Given two lists of Heights and Weights of individual, calculate the BMI of those individuals, without writing a `for-loop`"
   ]
  },
  {
   "cell_type": "code",
   "execution_count": 17,
   "metadata": {},
   "outputs": [
    {
     "data": {
      "text/plain": [
       "array([29.06592681, 27.73229978, 30.73941662, 24.16326531, 26.33288875])"
      ]
     },
     "execution_count": 17,
     "metadata": {},
     "output_type": "execute_result"
    }
   ],
   "source": [
    "heights = [174, 173, 173, 175, 171]\n",
    "weights = [88, 83, 92, 74, 77]\n",
    "\n",
    "BMI=np.array(weights)/(np.array(heights)/100)**2\n",
    "BMI"
   ]
  },
  {
   "cell_type": "markdown",
   "metadata": {},
   "source": [
    "## 3. Create an array of length 20 filled with random values (between 0 to 1) "
   ]
  },
  {
   "cell_type": "code",
   "execution_count": 18,
   "metadata": {},
   "outputs": [
    {
     "data": {
      "text/plain": [
       "array([0.        , 0.05263158, 0.10526316, 0.15789474, 0.21052632,\n",
       "       0.26315789, 0.31578947, 0.36842105, 0.42105263, 0.47368421,\n",
       "       0.52631579, 0.57894737, 0.63157895, 0.68421053, 0.73684211,\n",
       "       0.78947368, 0.84210526, 0.89473684, 0.94736842, 1.        ])"
      ]
     },
     "execution_count": 18,
     "metadata": {},
     "output_type": "execute_result"
    }
   ],
   "source": [
    "np.linspace(0,1,num=20)"
   ]
  },
  {
   "cell_type": "markdown",
   "metadata": {},
   "source": [
    "## Bonus. 1. Create an array with a large (>1000) length filled with random numbers from different distributions (normal, uniform, etc.). 2. Then, plot a histogram of these values. "
   ]
  },
  {
   "cell_type": "markdown",
   "metadata": {},
   "source": [
    "# Pandas"
   ]
  },
  {
   "cell_type": "markdown",
   "metadata": {},
   "source": [
    "## 1. Read in a CSV () and display all the columns and their respective data types "
   ]
  },
  {
   "cell_type": "code",
   "execution_count": 19,
   "metadata": {},
   "outputs": [
    {
     "data": {
      "text/plain": [
       "id         int64\n",
       "sex       object\n",
       "weight     int64\n",
       "height     int64\n",
       "dtype: object"
      ]
     },
     "execution_count": 19,
     "metadata": {},
     "output_type": "execute_result"
    }
   ],
   "source": [
    "df=pd.read_csv('hw_data.csv')\n",
    "df.dtypes"
   ]
  },
  {
   "cell_type": "markdown",
   "metadata": {},
   "source": [
    "## 2. Find the average weight "
   ]
  },
  {
   "cell_type": "code",
   "execution_count": 20,
   "metadata": {},
   "outputs": [
    {
     "data": {
      "text/plain": [
       "135.71428571428572"
      ]
     },
     "execution_count": 20,
     "metadata": {},
     "output_type": "execute_result"
    }
   ],
   "source": [
    "df['weight'].mean()"
   ]
  },
  {
   "cell_type": "markdown",
   "metadata": {},
   "source": [
    "## 3. Find the Value Counts on column `sex` "
   ]
  },
  {
   "cell_type": "code",
   "execution_count": 21,
   "metadata": {},
   "outputs": [
    {
     "data": {
      "text/plain": [
       "F    3\n",
       "M    3\n",
       "O    1\n",
       "Name: sex, dtype: int64"
      ]
     },
     "execution_count": 21,
     "metadata": {},
     "output_type": "execute_result"
    }
   ],
   "source": [
    "df['sex'].value_counts()"
   ]
  },
  {
   "cell_type": "markdown",
   "metadata": {},
   "source": [
    "## 4. Plot Height vs. Weight "
   ]
  },
  {
   "cell_type": "code",
   "execution_count": 22,
   "metadata": {},
   "outputs": [
    {
     "data": {
      "text/plain": [
       "<matplotlib.collections.PathCollection at 0x7fbaa4329730>"
      ]
     },
     "execution_count": 22,
     "metadata": {},
     "output_type": "execute_result"
    },
    {
     "data": {
      "image/png": "[encoded data removed]",
      "text/plain": [
       "<Figure size 432x288 with 1 Axes>"
      ]
     },
     "metadata": {},
     "output_type": "display_data"
    }
   ],
   "source": [
    "plt.scatter(df['height'],df['weight'])"
   ]
  },
  {
   "cell_type": "markdown",
   "metadata": {},
   "source": [
    "## 5. Calculate BMI and save as a new column"
   ]
  },
  {
   "cell_type": "code",
   "execution_count": 24,
   "metadata": {},
   "outputs": [],
   "source": [
    "df['BMI']=df['weight']/(df['height']**2)*703"
   ]
  },
  {
   "cell_type": "markdown",
   "metadata": {},
   "source": [
    "## 6. Save sheet as a new CSV file `hw_dataB.csv`"
   ]
  },
  {
   "cell_type": "code",
   "execution_count": 25,
   "metadata": {},
   "outputs": [],
   "source": [
    "df.to_csv('hw_dataB.csv')"
   ]
  },
  {
   "cell_type": "markdown",
   "metadata": {},
   "source": [
    "## Run the following"
   ]
  },
  {
   "cell_type": "code",
   "execution_count": 26,
   "metadata": {},
   "outputs": [
    {
     "name": "stdout",
     "output_type": "stream",
     "text": [
      ",id,sex,weight,height,BMI\r\n",
      "0,1,M,190,77,22.52825096980941\r\n",
      "1,2,F,120,70,17.216326530612243\r\n",
      "2,3,F,110,68,16.72361591695502\r\n",
      "3,4,M,150,72,20.341435185185187\r\n",
      "4,5,O,120,66,19.366391184573004\r\n",
      "5,6,M,120,60,23.433333333333334\r\n",
      "6,7,F,140,70,20.085714285714285\r\n"
     ]
    }
   ],
   "source": [
    "!cat hw_dataB.csv"
   ]
  }
 ],
 "metadata": {
  "kernelspec": {
   "display_name": "Python 3",
   "language": "python",
   "name": "python3"
  },
  "language_info": {
   "codemirror_mode": {
    "name": "ipython",
    "version": 3
   },
   "file_extension": ".py",
   "mimetype": "text/x-python",
   "name": "python",
   "nbconvert_exporter": "python",
   "pygments_lexer": "ipython3",
   "version": "3.8.3"
  }
 },
 "nbformat": 4,
 "nbformat_minor": 1
}
